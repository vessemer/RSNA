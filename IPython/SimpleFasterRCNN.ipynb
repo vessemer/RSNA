{
 "cells": [
  {
   "cell_type": "code",
   "execution_count": 1,
   "metadata": {},
   "outputs": [],
   "source": [
    "import sys\n",
    "\n",
    "sys.path.append('/home/vessemer/simple-faster-rcnn-pytorch/')"
   ]
  },
  {
   "cell_type": "code",
   "execution_count": 2,
   "metadata": {},
   "outputs": [
    {
     "name": "stdout",
     "output_type": "stream",
     "text": [
      "Requirement already satisfied: torchnet in /home/vessemer/anaconda3/envs/cxr/lib/python3.6/site-packages (0.0.4)\n",
      "Requirement already satisfied: six in /home/vessemer/anaconda3/envs/cxr/lib/python3.6/site-packages (from torchnet) (1.11.0)\n",
      "Requirement already satisfied: torch in /home/vessemer/anaconda3/envs/cxr/lib/python3.6/site-packages (from torchnet) (0.4.0)\n",
      "Requirement already satisfied: visdom in /home/vessemer/anaconda3/envs/cxr/lib/python3.6/site-packages (from torchnet) (0.1.8.5)\n",
      "Requirement already satisfied: numpy>=1.8 in /home/vessemer/anaconda3/envs/cxr/lib/python3.6/site-packages (from visdom->torchnet) (1.15.0)\n",
      "Requirement already satisfied: scipy in /home/vessemer/anaconda3/envs/cxr/lib/python3.6/site-packages (from visdom->torchnet) (1.1.0)\n",
      "Requirement already satisfied: requests in /home/vessemer/anaconda3/envs/cxr/lib/python3.6/site-packages (from visdom->torchnet) (2.19.1)\n",
      "Requirement already satisfied: tornado in /home/vessemer/anaconda3/envs/cxr/lib/python3.6/site-packages (from visdom->torchnet) (5.1)\n",
      "Requirement already satisfied: pyzmq in /home/vessemer/anaconda3/envs/cxr/lib/python3.6/site-packages (from visdom->torchnet) (17.1.2)\n",
      "Requirement already satisfied: torchfile in /home/vessemer/anaconda3/envs/cxr/lib/python3.6/site-packages (from visdom->torchnet) (0.1.0)\n",
      "Requirement already satisfied: websocket-client in /home/vessemer/anaconda3/envs/cxr/lib/python3.6/site-packages (from visdom->torchnet) (0.53.0)\n",
      "Requirement already satisfied: pillow in /home/vessemer/anaconda3/envs/cxr/lib/python3.6/site-packages (from visdom->torchnet) (5.2.0)\n",
      "Requirement already satisfied: chardet<3.1.0,>=3.0.2 in /home/vessemer/anaconda3/envs/cxr/lib/python3.6/site-packages (from requests->visdom->torchnet) (3.0.4)\n",
      "Requirement already satisfied: idna<2.8,>=2.5 in /home/vessemer/anaconda3/envs/cxr/lib/python3.6/site-packages (from requests->visdom->torchnet) (2.7)\n",
      "Requirement already satisfied: urllib3<1.24,>=1.21.1 in /home/vessemer/anaconda3/envs/cxr/lib/python3.6/site-packages (from requests->visdom->torchnet) (1.23)\n",
      "Requirement already satisfied: certifi>=2017.4.17 in /home/vessemer/anaconda3/envs/cxr/lib/python3.6/site-packages (from requests->visdom->torchnet) (2018.8.24)\n"
     ]
    }
   ],
   "source": [
    "# !conda install --yes --prefix {sys.prefix} -c conda-forge visdom ipdb\n",
    "# !conda install --yes --prefix {sys.prefix} -c auto scikit-image cupy\n",
    "# https://github.com/torchnet/torchnet.git\n",
    "!/home/vessemer/anaconda3/envs/cxr/bin/pip install torchnet"
   ]
  },
  {
   "cell_type": "code",
   "execution_count": 3,
   "metadata": {},
   "outputs": [
    {
     "name": "stderr",
     "output_type": "stream",
     "text": [
      "/home/vessemer/simple-faster-rcnn-pytorch/model/utils/nms/non_maximum_suppression.py:12: UserWarning: \n",
      "    the python code for non_maximum_suppression is about 2x slow\n",
      "    It is strongly recommended to build cython code: \n",
      "    `cd model/utils/nms/; python3 build.py build_ext --inplace\n",
      "  `cd model/utils/nms/; python3 build.py build_ext --inplace''')\n"
     ]
    }
   ],
   "source": [
    "# though cupy is not used but without this line, it raise errors...\n",
    "import cupy as cp\n",
    "import os\n",
    "\n",
    "import ipdb\n",
    "import matplotlib\n",
    "from tqdm import tqdm\n",
    "\n",
    "from utils.config import opt\n",
    "from data.dataset import Dataset, TestDataset, inverse_normalize\n",
    "from model import FasterRCNNVGG16\n",
    "from torch.utils import data as data_\n",
    "from trainer import FasterRCNNTrainer\n",
    "from utils import array_tool as at\n",
    "from utils.vis_tool import visdom_bbox\n",
    "from utils.eval_tool import eval_detection_voc"
   ]
  },
  {
   "cell_type": "code",
   "execution_count": 4,
   "metadata": {},
   "outputs": [],
   "source": [
    "# fix for ulimit\n",
    "# https://github.com/pytorch/pytorch/issues/973#issuecomment-346405667\n",
    "import resource\n",
    "\n",
    "\n",
    "rlimit = resource.getrlimit(resource.RLIMIT_NOFILE)\n",
    "resource.setrlimit(resource.RLIMIT_NOFILE, (20480, rlimit[1]))\n",
    "\n",
    "matplotlib.use('agg')"
   ]
  },
  {
   "cell_type": "code",
   "execution_count": 5,
   "metadata": {},
   "outputs": [],
   "source": [
    "faster_rcnn = FasterRCNNVGG16()"
   ]
  },
  {
   "cell_type": "code",
   "execution_count": 6,
   "metadata": {},
   "outputs": [
    {
     "name": "stderr",
     "output_type": "stream",
     "text": [
      "Traceback (most recent call last):\n",
      "  File \"/home/vessemer/anaconda3/envs/cxr/lib/python3.6/site-packages/urllib3/connection.py\", line 171, in _new_conn\n",
      "    (self._dns_host, self.port), self.timeout, **extra_kw)\n",
      "  File \"/home/vessemer/anaconda3/envs/cxr/lib/python3.6/site-packages/urllib3/util/connection.py\", line 79, in create_connection\n",
      "    raise err\n",
      "  File \"/home/vessemer/anaconda3/envs/cxr/lib/python3.6/site-packages/urllib3/util/connection.py\", line 69, in create_connection\n",
      "    sock.connect(sa)\n",
      "ConnectionRefusedError: [Errno 111] Connection refused\n",
      "\n",
      "During handling of the above exception, another exception occurred:\n",
      "\n",
      "Traceback (most recent call last):\n",
      "  File \"/home/vessemer/anaconda3/envs/cxr/lib/python3.6/site-packages/urllib3/connectionpool.py\", line 600, in urlopen\n",
      "    chunked=chunked)\n",
      "  File \"/home/vessemer/anaconda3/envs/cxr/lib/python3.6/site-packages/urllib3/connectionpool.py\", line 354, in _make_request\n",
      "    conn.request(method, url, **httplib_request_kw)\n",
      "  File \"/home/vessemer/anaconda3/envs/cxr/lib/python3.6/http/client.py\", line 1239, in request\n",
      "    self._send_request(method, url, body, headers, encode_chunked)\n",
      "  File \"/home/vessemer/anaconda3/envs/cxr/lib/python3.6/http/client.py\", line 1285, in _send_request\n",
      "    self.endheaders(body, encode_chunked=encode_chunked)\n",
      "  File \"/home/vessemer/anaconda3/envs/cxr/lib/python3.6/http/client.py\", line 1234, in endheaders\n",
      "    self._send_output(message_body, encode_chunked=encode_chunked)\n",
      "  File \"/home/vessemer/anaconda3/envs/cxr/lib/python3.6/http/client.py\", line 1026, in _send_output\n",
      "    self.send(msg)\n",
      "  File \"/home/vessemer/anaconda3/envs/cxr/lib/python3.6/http/client.py\", line 964, in send\n",
      "    self.connect()\n",
      "  File \"/home/vessemer/anaconda3/envs/cxr/lib/python3.6/site-packages/urllib3/connection.py\", line 196, in connect\n",
      "    conn = self._new_conn()\n",
      "  File \"/home/vessemer/anaconda3/envs/cxr/lib/python3.6/site-packages/urllib3/connection.py\", line 180, in _new_conn\n",
      "    self, \"Failed to establish a new connection: %s\" % e)\n",
      "urllib3.exceptions.NewConnectionError: <urllib3.connection.HTTPConnection object at 0x7fbfa95a2128>: Failed to establish a new connection: [Errno 111] Connection refused\n",
      "\n",
      "During handling of the above exception, another exception occurred:\n",
      "\n",
      "Traceback (most recent call last):\n",
      "  File \"/home/vessemer/anaconda3/envs/cxr/lib/python3.6/site-packages/requests/adapters.py\", line 445, in send\n",
      "    timeout=timeout\n",
      "  File \"/home/vessemer/anaconda3/envs/cxr/lib/python3.6/site-packages/urllib3/connectionpool.py\", line 638, in urlopen\n",
      "    _stacktrace=sys.exc_info()[2])\n",
      "  File \"/home/vessemer/anaconda3/envs/cxr/lib/python3.6/site-packages/urllib3/util/retry.py\", line 398, in increment\n",
      "    raise MaxRetryError(_pool, url, error or ResponseError(cause))\n",
      "urllib3.exceptions.MaxRetryError: HTTPConnectionPool(host='localhost', port=8097): Max retries exceeded with url: /env/faster-rcnn (Caused by NewConnectionError('<urllib3.connection.HTTPConnection object at 0x7fbfa95a2128>: Failed to establish a new connection: [Errno 111] Connection refused',))\n",
      "\n",
      "During handling of the above exception, another exception occurred:\n",
      "\n",
      "Traceback (most recent call last):\n",
      "  File \"/home/vessemer/anaconda3/envs/cxr/lib/python3.6/site-packages/visdom/__init__.py\", line 446, in _send\n",
      "    data=json.dumps(msg),\n",
      "  File \"/home/vessemer/anaconda3/envs/cxr/lib/python3.6/site-packages/requests/api.py\", line 112, in post\n",
      "    return request('post', url, data=data, json=json, **kwargs)\n",
      "  File \"/home/vessemer/anaconda3/envs/cxr/lib/python3.6/site-packages/requests/api.py\", line 58, in request\n",
      "    return session.request(method=method, url=url, **kwargs)\n",
      "  File \"/home/vessemer/anaconda3/envs/cxr/lib/python3.6/site-packages/requests/sessions.py\", line 512, in request\n",
      "    resp = self.send(prep, **send_kwargs)\n",
      "  File \"/home/vessemer/anaconda3/envs/cxr/lib/python3.6/site-packages/requests/sessions.py\", line 622, in send\n",
      "    r = adapter.send(request, **kwargs)\n",
      "  File \"/home/vessemer/anaconda3/envs/cxr/lib/python3.6/site-packages/requests/adapters.py\", line 513, in send\n",
      "    raise ConnectionError(e, request=request)\n",
      "requests.exceptions.ConnectionError: HTTPConnectionPool(host='localhost', port=8097): Max retries exceeded with url: /env/faster-rcnn (Caused by NewConnectionError('<urllib3.connection.HTTPConnection object at 0x7fbfa95a2128>: Failed to establish a new connection: [Errno 111] Connection refused',))\n",
      "Without the incoming socket you cannot receive events from the server or register event handlers to your Visdom client.\n"
     ]
    },
    {
     "name": "stdout",
     "output_type": "stream",
     "text": [
      "Exception in user code:\n",
      "------------------------------------------------------------\n"
     ]
    }
   ],
   "source": [
    "trainer = FasterRCNNTrainer(faster_rcnn).cuda()"
   ]
  },
  {
   "cell_type": "code",
   "execution_count": 9,
   "metadata": {},
   "outputs": [
    {
     "data": {
      "text/plain": [
       "<module 'cv2.cv2' from '/home/vessemer/anaconda3/envs/cxr/lib/python3.6/site-packages/cv2/cv2.cpython-36m-x86_64-linux-gnu.so'>"
      ]
     },
     "execution_count": 9,
     "metadata": {},
     "output_type": "execute_result"
    }
   ],
   "source": [
    "import cv2\n",
    "\n",
    "cv2.imread('../data/')"
   ]
  },
  {
   "cell_type": "code",
   "execution_count": null,
   "metadata": {},
   "outputs": [],
   "source": [
    "def train(**kwargs):\n",
    "    opt._parse(kwargs)\n",
    "\n",
    "    dataset = Dataset(opt)\n",
    "    print('load data')\n",
    "    dataloader = data_.DataLoader(dataset, \\\n",
    "                                  batch_size=1, \\\n",
    "                                  shuffle=True, \\\n",
    "                                  # pin_memory=True,\n",
    "                                  num_workers=opt.num_workers)\n",
    "    testset = TestDataset(opt)\n",
    "    test_dataloader = data_.DataLoader(testset,\n",
    "                                       batch_size=1,\n",
    "                                       num_workers=opt.test_num_workers,\n",
    "                                       shuffle=False, \\\n",
    "                                       pin_memory=True\n",
    "                                       )\n",
    "    faster_rcnn = FasterRCNNVGG16()\n",
    "    print('model construct completed')\n",
    "    trainer = FasterRCNNTrainer(faster_rcnn).cuda()\n",
    "    if opt.load_path:\n",
    "        trainer.load(opt.load_path)\n",
    "        print('load pretrained model from %s' % opt.load_path)\n",
    "    trainer.vis.text(dataset.db.label_names, win='labels')\n",
    "    best_map = 0\n",
    "    lr_ = opt.lr\n",
    "    for epoch in range(opt.epoch):\n",
    "        trainer.reset_meters()\n",
    "        for ii, (img, bbox_, label_, scale) in tqdm(enumerate(dataloader)):\n",
    "            scale = at.scalar(scale)\n",
    "            img, bbox, label = img.cuda().float(), bbox_.cuda(), label_.cuda()\n",
    "            trainer.train_step(img, bbox, label, scale)\n",
    "\n",
    "            if (ii + 1) % opt.plot_every == 0:\n",
    "                if os.path.exists(opt.debug_file):\n",
    "                    ipdb.set_trace()\n",
    "\n",
    "                # plot loss\n",
    "                trainer.vis.plot_many(trainer.get_meter_data())\n",
    "\n",
    "                # plot groud truth bboxes\n",
    "                ori_img_ = inverse_normalize(at.tonumpy(img[0]))\n",
    "                gt_img = visdom_bbox(ori_img_,\n",
    "                                     at.tonumpy(bbox_[0]),\n",
    "                                     at.tonumpy(label_[0]))\n",
    "                trainer.vis.img('gt_img', gt_img)\n",
    "\n",
    "                # plot predicti bboxes\n",
    "                _bboxes, _labels, _scores = trainer.faster_rcnn.predict([ori_img_], visualize=True)\n",
    "                pred_img = visdom_bbox(ori_img_,\n",
    "                                       at.tonumpy(_bboxes[0]),\n",
    "                                       at.tonumpy(_labels[0]).reshape(-1),\n",
    "                                       at.tonumpy(_scores[0]))\n",
    "                trainer.vis.img('pred_img', pred_img)\n",
    "\n",
    "                # rpn confusion matrix(meter)\n",
    "                trainer.vis.text(str(trainer.rpn_cm.value().tolist()), win='rpn_cm')\n",
    "                # roi confusion matrix\n",
    "                trainer.vis.img('roi_cm', at.totensor(trainer.roi_cm.conf, False).float())\n",
    "        eval_result = eval(test_dataloader, faster_rcnn, test_num=opt.test_num)\n",
    "        trainer.vis.plot('test_map', eval_result['map'])\n",
    "        lr_ = trainer.faster_rcnn.optimizer.param_groups[0]['lr']\n",
    "        log_info = 'lr:{}, map:{},loss:{}'.format(str(lr_),\n",
    "                                                  str(eval_result['map']),\n",
    "                                                  str(trainer.get_meter_data()))\n",
    "        trainer.vis.log(log_info)\n",
    "\n",
    "        if eval_result['map'] > best_map:\n",
    "            best_map = eval_result['map']\n",
    "            best_path = trainer.save(best_map=best_map)\n",
    "        if epoch == 9:\n",
    "            trainer.load(best_path)\n",
    "            trainer.faster_rcnn.scale_lr(opt.lr_decay)\n",
    "            lr_ = lr_ * opt.lr_decay\n",
    "\n",
    "        if epoch == 13: \n",
    "            break"
   ]
  },
  {
   "cell_type": "code",
   "execution_count": null,
   "metadata": {},
   "outputs": [],
   "source": [
    "def eval(dataloader, faster_rcnn, test_num=10000):\n",
    "    pred_bboxes, pred_labels, pred_scores = list(), list(), list()\n",
    "    gt_bboxes, gt_labels, gt_difficults = list(), list(), list()\n",
    "    for ii, (imgs, sizes, gt_bboxes_, gt_labels_, gt_difficults_) in tqdm(enumerate(dataloader)):\n",
    "        sizes = [sizes[0][0].item(), sizes[1][0].item()]\n",
    "        pred_bboxes_, pred_labels_, pred_scores_ = faster_rcnn.predict(imgs, [sizes])\n",
    "        gt_bboxes += list(gt_bboxes_.numpy())\n",
    "        gt_labels += list(gt_labels_.numpy())\n",
    "        gt_difficults += list(gt_difficults_.numpy())\n",
    "        pred_bboxes += pred_bboxes_\n",
    "        pred_labels += pred_labels_\n",
    "        pred_scores += pred_scores_\n",
    "        if ii == test_num: break\n",
    "\n",
    "    result = eval_detection_voc(\n",
    "        pred_bboxes, pred_labels, pred_scores,\n",
    "        gt_bboxes, gt_labels, gt_difficults,\n",
    "        use_07_metric=True)\n",
    "    return result"
   ]
  }
 ],
 "metadata": {
  "kernelspec": {
   "display_name": "Python 3",
   "language": "python",
   "name": "python3"
  },
  "language_info": {
   "codemirror_mode": {
    "name": "ipython",
    "version": 3
   },
   "file_extension": ".py",
   "mimetype": "text/x-python",
   "name": "python",
   "nbconvert_exporter": "python",
   "pygments_lexer": "ipython3",
   "version": "3.6.6"
  }
 },
 "nbformat": 4,
 "nbformat_minor": 2
}
